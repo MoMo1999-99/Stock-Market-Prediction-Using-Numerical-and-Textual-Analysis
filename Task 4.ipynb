{
 "cells": [
  {
   "cell_type": "markdown",
   "id": "f0ac4994",
   "metadata": {},
   "source": [
    "# Stock Market Prediction Using Numerical and Textual Analysis"
   ]
  },
  {
   "cell_type": "markdown",
   "id": "d7bde169",
   "metadata": {},
   "source": [
    "### Name : Mohamed Ahmed Abd El mgeed"
   ]
  },
  {
   "cell_type": "markdown",
   "id": "0156eaa4",
   "metadata": {},
   "source": [
    "### Importing Libraries"
   ]
  },
  {
   "cell_type": "code",
   "execution_count": 1,
   "id": "e476d5dd",
   "metadata": {},
   "outputs": [],
   "source": [
    "import pandas as pd\n",
    "import numpy as np\n",
    "import matplotlib.pyplot as plt\n",
    "import seaborn as sns\n",
    "import warnings\n",
    "warnings.filterwarnings('ignore')\n",
    "from sklearn.model_selection import train_test_split\n",
    "from sklearn.linear_model import LinearRegression \n",
    "from sklearn.neighbors import KNeighborsRegressor\n",
    "from sklearn.tree import DecisionTreeRegressor\n",
    "from sklearn.svm import SVR\n",
    "from sklearn.ensemble import RandomForestRegressor\n",
    "from xgboost import XGBRegressor\n",
    "from sklearn.metrics import mean_squared_error, mean_absolute_error, r2_score"
   ]
  },
  {
   "cell_type": "markdown",
   "id": "7d7d2ae0",
   "metadata": {},
   "source": [
    "### Loading data"
   ]
  },
  {
   "cell_type": "code",
   "execution_count": 2,
   "id": "41b04124",
   "metadata": {},
   "outputs": [],
   "source": [
    "stock_price = pd.read_csv('AAPL.csv')\n",
    "stock_headlines = pd.read_csv('india-news-headlines.csv')"
   ]
  },
  {
   "cell_type": "code",
   "execution_count": 3,
   "id": "7c897230",
   "metadata": {
    "scrolled": true
   },
   "outputs": [
    {
     "data": {
      "text/plain": [
       "(5724, 7)"
      ]
     },
     "execution_count": 3,
     "metadata": {},
     "output_type": "execute_result"
    }
   ],
   "source": [
    "# shape of stock_price data \n",
    "stock_price.shape"
   ]
  },
  {
   "cell_type": "code",
   "execution_count": 4,
   "id": "82cfece2",
   "metadata": {},
   "outputs": [
    {
     "data": {
      "text/plain": [
       "(3650970, 3)"
      ]
     },
     "execution_count": 4,
     "metadata": {},
     "output_type": "execute_result"
    }
   ],
   "source": [
    "# shape of stock_headlines data\n",
    "stock_headlines.shape"
   ]
  },
  {
   "cell_type": "code",
   "execution_count": 5,
   "id": "a3c9033c",
   "metadata": {},
   "outputs": [
    {
     "data": {
      "text/html": [
       "<div>\n",
       "<style scoped>\n",
       "    .dataframe tbody tr th:only-of-type {\n",
       "        vertical-align: middle;\n",
       "    }\n",
       "\n",
       "    .dataframe tbody tr th {\n",
       "        vertical-align: top;\n",
       "    }\n",
       "\n",
       "    .dataframe thead th {\n",
       "        text-align: right;\n",
       "    }\n",
       "</style>\n",
       "<table border=\"1\" class=\"dataframe\">\n",
       "  <thead>\n",
       "    <tr style=\"text-align: right;\">\n",
       "      <th></th>\n",
       "      <th>Date</th>\n",
       "      <th>Open</th>\n",
       "      <th>High</th>\n",
       "      <th>Low</th>\n",
       "      <th>Close</th>\n",
       "      <th>Adj Close</th>\n",
       "      <th>Volume</th>\n",
       "    </tr>\n",
       "  </thead>\n",
       "  <tbody>\n",
       "    <tr>\n",
       "      <th>0</th>\n",
       "      <td>2000-01-03</td>\n",
       "      <td>0.936384</td>\n",
       "      <td>1.004464</td>\n",
       "      <td>0.907924</td>\n",
       "      <td>0.999442</td>\n",
       "      <td>0.853356</td>\n",
       "      <td>535796800</td>\n",
       "    </tr>\n",
       "    <tr>\n",
       "      <th>1</th>\n",
       "      <td>2000-01-04</td>\n",
       "      <td>0.966518</td>\n",
       "      <td>0.987723</td>\n",
       "      <td>0.903460</td>\n",
       "      <td>0.915179</td>\n",
       "      <td>0.781409</td>\n",
       "      <td>512377600</td>\n",
       "    </tr>\n",
       "    <tr>\n",
       "      <th>2</th>\n",
       "      <td>2000-01-05</td>\n",
       "      <td>0.926339</td>\n",
       "      <td>0.987165</td>\n",
       "      <td>0.919643</td>\n",
       "      <td>0.928571</td>\n",
       "      <td>0.792843</td>\n",
       "      <td>778321600</td>\n",
       "    </tr>\n",
       "    <tr>\n",
       "      <th>3</th>\n",
       "      <td>2000-01-06</td>\n",
       "      <td>0.947545</td>\n",
       "      <td>0.955357</td>\n",
       "      <td>0.848214</td>\n",
       "      <td>0.848214</td>\n",
       "      <td>0.724232</td>\n",
       "      <td>767972800</td>\n",
       "    </tr>\n",
       "    <tr>\n",
       "      <th>4</th>\n",
       "      <td>2000-01-07</td>\n",
       "      <td>0.861607</td>\n",
       "      <td>0.901786</td>\n",
       "      <td>0.852679</td>\n",
       "      <td>0.888393</td>\n",
       "      <td>0.758538</td>\n",
       "      <td>460734400</td>\n",
       "    </tr>\n",
       "  </tbody>\n",
       "</table>\n",
       "</div>"
      ],
      "text/plain": [
       "         Date      Open      High       Low     Close  Adj Close     Volume\n",
       "0  2000-01-03  0.936384  1.004464  0.907924  0.999442   0.853356  535796800\n",
       "1  2000-01-04  0.966518  0.987723  0.903460  0.915179   0.781409  512377600\n",
       "2  2000-01-05  0.926339  0.987165  0.919643  0.928571   0.792843  778321600\n",
       "3  2000-01-06  0.947545  0.955357  0.848214  0.848214   0.724232  767972800\n",
       "4  2000-01-07  0.861607  0.901786  0.852679  0.888393   0.758538  460734400"
      ]
     },
     "execution_count": 5,
     "metadata": {},
     "output_type": "execute_result"
    }
   ],
   "source": [
    "### first five Rows of stock_price data\n",
    "stock_price.head()"
   ]
  },
  {
   "cell_type": "code",
   "execution_count": 6,
   "id": "2cd5ea41",
   "metadata": {
    "scrolled": true
   },
   "outputs": [
    {
     "name": "stdout",
     "output_type": "stream",
     "text": [
      "<class 'pandas.core.frame.DataFrame'>\n",
      "RangeIndex: 5724 entries, 0 to 5723\n",
      "Data columns (total 7 columns):\n",
      " #   Column     Non-Null Count  Dtype  \n",
      "---  ------     --------------  -----  \n",
      " 0   Date       5724 non-null   object \n",
      " 1   Open       5724 non-null   float64\n",
      " 2   High       5724 non-null   float64\n",
      " 3   Low        5724 non-null   float64\n",
      " 4   Close      5724 non-null   float64\n",
      " 5   Adj Close  5724 non-null   float64\n",
      " 6   Volume     5724 non-null   int64  \n",
      "dtypes: float64(5), int64(1), object(1)\n",
      "memory usage: 313.2+ KB\n"
     ]
    }
   ],
   "source": [
    "### info about stock_price data\n",
    "stock_price.info()"
   ]
  },
  {
   "cell_type": "markdown",
   "id": "2129de23",
   "metadata": {},
   "source": [
    "### preprocessing"
   ]
  },
  {
   "cell_type": "code",
   "execution_count": 7,
   "id": "ad27740f",
   "metadata": {
    "scrolled": true
   },
   "outputs": [
    {
     "data": {
      "text/html": [
       "<div>\n",
       "<style scoped>\n",
       "    .dataframe tbody tr th:only-of-type {\n",
       "        vertical-align: middle;\n",
       "    }\n",
       "\n",
       "    .dataframe tbody tr th {\n",
       "        vertical-align: top;\n",
       "    }\n",
       "\n",
       "    .dataframe thead th {\n",
       "        text-align: right;\n",
       "    }\n",
       "</style>\n",
       "<table border=\"1\" class=\"dataframe\">\n",
       "  <thead>\n",
       "    <tr style=\"text-align: right;\">\n",
       "      <th></th>\n",
       "      <th>Date</th>\n",
       "      <th>Open</th>\n",
       "      <th>High</th>\n",
       "      <th>Low</th>\n",
       "      <th>Close</th>\n",
       "      <th>Adj Close</th>\n",
       "      <th>Volume</th>\n",
       "    </tr>\n",
       "  </thead>\n",
       "  <tbody>\n",
       "    <tr>\n",
       "      <th>0</th>\n",
       "      <td>2000-01-03</td>\n",
       "      <td>0.936384</td>\n",
       "      <td>1.004464</td>\n",
       "      <td>0.907924</td>\n",
       "      <td>0.999442</td>\n",
       "      <td>0.853356</td>\n",
       "      <td>535796800</td>\n",
       "    </tr>\n",
       "    <tr>\n",
       "      <th>1</th>\n",
       "      <td>2000-01-04</td>\n",
       "      <td>0.966518</td>\n",
       "      <td>0.987723</td>\n",
       "      <td>0.903460</td>\n",
       "      <td>0.915179</td>\n",
       "      <td>0.781409</td>\n",
       "      <td>512377600</td>\n",
       "    </tr>\n",
       "    <tr>\n",
       "      <th>2</th>\n",
       "      <td>2000-01-05</td>\n",
       "      <td>0.926339</td>\n",
       "      <td>0.987165</td>\n",
       "      <td>0.919643</td>\n",
       "      <td>0.928571</td>\n",
       "      <td>0.792843</td>\n",
       "      <td>778321600</td>\n",
       "    </tr>\n",
       "    <tr>\n",
       "      <th>3</th>\n",
       "      <td>2000-01-06</td>\n",
       "      <td>0.947545</td>\n",
       "      <td>0.955357</td>\n",
       "      <td>0.848214</td>\n",
       "      <td>0.848214</td>\n",
       "      <td>0.724232</td>\n",
       "      <td>767972800</td>\n",
       "    </tr>\n",
       "    <tr>\n",
       "      <th>4</th>\n",
       "      <td>2000-01-07</td>\n",
       "      <td>0.861607</td>\n",
       "      <td>0.901786</td>\n",
       "      <td>0.852679</td>\n",
       "      <td>0.888393</td>\n",
       "      <td>0.758538</td>\n",
       "      <td>460734400</td>\n",
       "    </tr>\n",
       "  </tbody>\n",
       "</table>\n",
       "</div>"
      ],
      "text/plain": [
       "        Date      Open      High       Low     Close  Adj Close     Volume\n",
       "0 2000-01-03  0.936384  1.004464  0.907924  0.999442   0.853356  535796800\n",
       "1 2000-01-04  0.966518  0.987723  0.903460  0.915179   0.781409  512377600\n",
       "2 2000-01-05  0.926339  0.987165  0.919643  0.928571   0.792843  778321600\n",
       "3 2000-01-06  0.947545  0.955357  0.848214  0.848214   0.724232  767972800\n",
       "4 2000-01-07  0.861607  0.901786  0.852679  0.888393   0.758538  460734400"
      ]
     },
     "execution_count": 7,
     "metadata": {},
     "output_type": "execute_result"
    }
   ],
   "source": [
    "### convert Data type of date to datetime64\n",
    "stock_price['Date'] = pd.to_datetime(stock_price['Date'], format='%Y-%m-%d', errors='coerce')\n",
    "stock_price.head()"
   ]
  },
  {
   "cell_type": "code",
   "execution_count": 8,
   "id": "9028bdd3",
   "metadata": {},
   "outputs": [],
   "source": [
    "stock_price.set_index('Date', inplace= True)\n",
    "\n",
    "# sorting the data according to Date\n",
    "stock_price = stock_price.sort_index(ascending=True, axis=0)"
   ]
  },
  {
   "cell_type": "code",
   "execution_count": 9,
   "id": "93f16dc4",
   "metadata": {},
   "outputs": [
    {
     "data": {
      "text/plain": [
       "0"
      ]
     },
     "execution_count": 9,
     "metadata": {},
     "output_type": "execute_result"
    }
   ],
   "source": [
    "### counting duplicates\n",
    "stock_price.duplicated().sum()"
   ]
  },
  {
   "cell_type": "code",
   "execution_count": 10,
   "id": "5fb1f91f",
   "metadata": {},
   "outputs": [
    {
     "data": {
      "text/plain": [
       "Text(0, 0.5, 'Close Price (INR)')"
      ]
     },
     "execution_count": 10,
     "metadata": {},
     "output_type": "execute_result"
    },
    {
     "data": {
      "image/png": "[encoded data removed]",
      "text/plain": [
       "<Figure size 360x360 with 1 Axes>"
      ]
     },
     "metadata": {
      "needs_background": "light"
     },
     "output_type": "display_data"
    }
   ],
   "source": [
    "### Trend of price\n",
    "plt.figure(figsize=(5,5))\n",
    "stock_price['Close'].plot()\n",
    "\n",
    "plt.title(\"Close Price\")\n",
    "plt.xlabel('Date')\n",
    "plt.ylabel('Close Price (INR)')"
   ]
  },
  {
   "cell_type": "code",
   "execution_count": 11,
   "id": "ff11975e",
   "metadata": {},
   "outputs": [
    {
     "data": {
      "text/plain": [
       "<AxesSubplot:xlabel='Date'>"
      ]
     },
     "execution_count": 11,
     "metadata": {},
     "output_type": "execute_result"
    },
    {
     "data": {
      "image/png": "[encoded data removed]",
      "text/plain": [
       "<Figure size 1080x720 with 1 Axes>"
      ]
     },
     "metadata": {
      "needs_background": "light"
     },
     "output_type": "display_data"
    }
   ],
   "source": [
    "# setting figure size\n",
    "plt.figure(figsize=(15,10))\n",
    "\n",
    "# plotting the close price and a 30-day rolling mean of close price\n",
    "stock_price['Close'].plot()\n",
    "stock_price.rolling(window=30).mean()['Close'].plot()"
   ]
  },
  {
   "cell_type": "code",
   "execution_count": 12,
   "id": "e0f214c6",
   "metadata": {},
   "outputs": [
    {
     "data": {
      "text/html": [
       "<div>\n",
       "<style scoped>\n",
       "    .dataframe tbody tr th:only-of-type {\n",
       "        vertical-align: middle;\n",
       "    }\n",
       "\n",
       "    .dataframe tbody tr th {\n",
       "        vertical-align: top;\n",
       "    }\n",
       "\n",
       "    .dataframe thead th {\n",
       "        text-align: right;\n",
       "    }\n",
       "</style>\n",
       "<table border=\"1\" class=\"dataframe\">\n",
       "  <thead>\n",
       "    <tr style=\"text-align: right;\">\n",
       "      <th></th>\n",
       "      <th>publish_date</th>\n",
       "      <th>headline_category</th>\n",
       "      <th>headline_text</th>\n",
       "    </tr>\n",
       "  </thead>\n",
       "  <tbody>\n",
       "    <tr>\n",
       "      <th>0</th>\n",
       "      <td>20010102</td>\n",
       "      <td>unknown</td>\n",
       "      <td>Status quo will not be disturbed at Ayodhya; s...</td>\n",
       "    </tr>\n",
       "    <tr>\n",
       "      <th>1</th>\n",
       "      <td>20010102</td>\n",
       "      <td>unknown</td>\n",
       "      <td>Fissures in Hurriyat over Pak visit</td>\n",
       "    </tr>\n",
       "    <tr>\n",
       "      <th>2</th>\n",
       "      <td>20010102</td>\n",
       "      <td>unknown</td>\n",
       "      <td>America's unwanted heading for India?</td>\n",
       "    </tr>\n",
       "    <tr>\n",
       "      <th>3</th>\n",
       "      <td>20010102</td>\n",
       "      <td>unknown</td>\n",
       "      <td>For bigwigs; it is destination Goa</td>\n",
       "    </tr>\n",
       "    <tr>\n",
       "      <th>4</th>\n",
       "      <td>20010102</td>\n",
       "      <td>unknown</td>\n",
       "      <td>Extra buses to clear tourist traffic</td>\n",
       "    </tr>\n",
       "  </tbody>\n",
       "</table>\n",
       "</div>"
      ],
      "text/plain": [
       "   publish_date headline_category  \\\n",
       "0      20010102           unknown   \n",
       "1      20010102           unknown   \n",
       "2      20010102           unknown   \n",
       "3      20010102           unknown   \n",
       "4      20010102           unknown   \n",
       "\n",
       "                                       headline_text  \n",
       "0  Status quo will not be disturbed at Ayodhya; s...  \n",
       "1                Fissures in Hurriyat over Pak visit  \n",
       "2              America's unwanted heading for India?  \n",
       "3                 For bigwigs; it is destination Goa  \n",
       "4               Extra buses to clear tourist traffic  "
      ]
     },
     "execution_count": 12,
     "metadata": {},
     "output_type": "execute_result"
    }
   ],
   "source": [
    "### first five rows of data \n",
    "stock_headlines.head()"
   ]
  },
  {
   "cell_type": "code",
   "execution_count": 13,
   "id": "f4ff0ef5",
   "metadata": {
    "scrolled": true
   },
   "outputs": [
    {
     "data": {
      "text/plain": [
       "(3650970, 3)"
      ]
     },
     "execution_count": 13,
     "metadata": {},
     "output_type": "execute_result"
    }
   ],
   "source": [
    "### shape of data\n",
    "stock_headlines.shape"
   ]
  },
  {
   "cell_type": "code",
   "execution_count": 14,
   "id": "b0eb8c61",
   "metadata": {
    "scrolled": true
   },
   "outputs": [
    {
     "data": {
      "text/plain": [
       "24860"
      ]
     },
     "execution_count": 14,
     "metadata": {},
     "output_type": "execute_result"
    }
   ],
   "source": [
    "### counting duplicates\n",
    "stock_headlines.duplicated().sum()"
   ]
  },
  {
   "cell_type": "code",
   "execution_count": 15,
   "id": "99fc2477",
   "metadata": {},
   "outputs": [],
   "source": [
    "### drop duplicates\n",
    "\n",
    "stock_headlines.drop_duplicates(inplace=True)"
   ]
  },
  {
   "cell_type": "code",
   "execution_count": 16,
   "id": "6a4ef8d7",
   "metadata": {},
   "outputs": [
    {
     "data": {
      "text/plain": [
       "publish_date         0\n",
       "headline_category    0\n",
       "headline_text        0\n",
       "dtype: int64"
      ]
     },
     "execution_count": 16,
     "metadata": {},
     "output_type": "execute_result"
    }
   ],
   "source": [
    "stock_headlines.isna().sum()"
   ]
  },
  {
   "cell_type": "code",
   "execution_count": 17,
   "id": "d248f971",
   "metadata": {},
   "outputs": [
    {
     "data": {
      "text/html": [
       "<div>\n",
       "<style scoped>\n",
       "    .dataframe tbody tr th:only-of-type {\n",
       "        vertical-align: middle;\n",
       "    }\n",
       "\n",
       "    .dataframe tbody tr th {\n",
       "        vertical-align: top;\n",
       "    }\n",
       "\n",
       "    .dataframe thead th {\n",
       "        text-align: right;\n",
       "    }\n",
       "</style>\n",
       "<table border=\"1\" class=\"dataframe\">\n",
       "  <thead>\n",
       "    <tr style=\"text-align: right;\">\n",
       "      <th></th>\n",
       "      <th>headline_text</th>\n",
       "    </tr>\n",
       "    <tr>\n",
       "      <th>publish_date</th>\n",
       "      <th></th>\n",
       "    </tr>\n",
       "  </thead>\n",
       "  <tbody>\n",
       "    <tr>\n",
       "      <th>2001-01-02</th>\n",
       "      <td>Status quo will not be disturbed at Ayodhya; s...</td>\n",
       "    </tr>\n",
       "    <tr>\n",
       "      <th>2001-01-03</th>\n",
       "      <td>Powerless north India gropes in the dark,Think...</td>\n",
       "    </tr>\n",
       "    <tr>\n",
       "      <th>2001-01-04</th>\n",
       "      <td>The string that pulled Stephen Hawking to Indi...</td>\n",
       "    </tr>\n",
       "    <tr>\n",
       "      <th>2001-01-05</th>\n",
       "      <td>Light combat craft takes India into club class...</td>\n",
       "    </tr>\n",
       "    <tr>\n",
       "      <th>2001-01-06</th>\n",
       "      <td>Light combat craft takes India into club class...</td>\n",
       "    </tr>\n",
       "    <tr>\n",
       "      <th>...</th>\n",
       "      <td>...</td>\n",
       "    </tr>\n",
       "    <tr>\n",
       "      <th>2022-03-27</th>\n",
       "      <td>Playing a dead man in Body God meant sitting i...</td>\n",
       "    </tr>\n",
       "    <tr>\n",
       "      <th>2022-03-28</th>\n",
       "      <td>As fashion becomes democratic; demand for styl...</td>\n",
       "    </tr>\n",
       "    <tr>\n",
       "      <th>2022-03-29</th>\n",
       "      <td>Bobby Deol: Like my dad; I hope to be working ...</td>\n",
       "    </tr>\n",
       "    <tr>\n",
       "      <th>2022-03-30</th>\n",
       "      <td>I will not give in to trends: Dossmode,The tim...</td>\n",
       "    </tr>\n",
       "    <tr>\n",
       "      <th>2022-03-31</th>\n",
       "      <td>Shashank goes back to coastal Karnataka and Mo...</td>\n",
       "    </tr>\n",
       "  </tbody>\n",
       "</table>\n",
       "<p>7717 rows × 1 columns</p>\n",
       "</div>"
      ],
      "text/plain": [
       "                                                  headline_text\n",
       "publish_date                                                   \n",
       "2001-01-02    Status quo will not be disturbed at Ayodhya; s...\n",
       "2001-01-03    Powerless north India gropes in the dark,Think...\n",
       "2001-01-04    The string that pulled Stephen Hawking to Indi...\n",
       "2001-01-05    Light combat craft takes India into club class...\n",
       "2001-01-06    Light combat craft takes India into club class...\n",
       "...                                                         ...\n",
       "2022-03-27    Playing a dead man in Body God meant sitting i...\n",
       "2022-03-28    As fashion becomes democratic; demand for styl...\n",
       "2022-03-29    Bobby Deol: Like my dad; I hope to be working ...\n",
       "2022-03-30    I will not give in to trends: Dossmode,The tim...\n",
       "2022-03-31    Shashank goes back to coastal Karnataka and Mo...\n",
       "\n",
       "[7717 rows x 1 columns]"
      ]
     },
     "execution_count": 17,
     "metadata": {},
     "output_type": "execute_result"
    }
   ],
   "source": [
    "# converting the datatype of column 'Date' from type string to type 'datetime'\n",
    "stock_headlines['publish_date'] = stock_headlines['publish_date'].astype(str)\n",
    "stock_headlines['publish_date'] = stock_headlines['publish_date'].apply(lambda x: x[0:4]+'-'+x[4:6]+'-'+x[6:8])\n",
    "stock_headlines['publish_date'] = pd.to_datetime(stock_headlines['publish_date']).dt.normalize()\n",
    "\n",
    "# filtering the important columns \n",
    "stock_headlines = stock_headlines.filter(['publish_date', 'headline_text'])\n",
    "\n",
    "# grouping the news headlines according to Date\n",
    "stock_headlines = stock_headlines.groupby(['publish_date'])['headline_text'].apply(lambda x: ','.join(x)).reset_index()\n",
    "\n",
    "# setting Date as the index column\n",
    "stock_headlines.set_index('publish_date', inplace= True)\n",
    "\n",
    "# sorting the data according to the Date\n",
    "stock_headlines = stock_headlines.sort_index(ascending=True, axis=0)\n",
    "stock_headlines"
   ]
  },
  {
   "cell_type": "code",
   "execution_count": 18,
   "id": "ffdf96ab",
   "metadata": {},
   "outputs": [
    {
     "data": {
      "text/html": [
       "<div>\n",
       "<style scoped>\n",
       "    .dataframe tbody tr th:only-of-type {\n",
       "        vertical-align: middle;\n",
       "    }\n",
       "\n",
       "    .dataframe tbody tr th {\n",
       "        vertical-align: top;\n",
       "    }\n",
       "\n",
       "    .dataframe thead th {\n",
       "        text-align: right;\n",
       "    }\n",
       "</style>\n",
       "<table border=\"1\" class=\"dataframe\">\n",
       "  <thead>\n",
       "    <tr style=\"text-align: right;\">\n",
       "      <th></th>\n",
       "      <th>headline_text</th>\n",
       "      <th>polarity</th>\n",
       "      <th>subjectivity</th>\n",
       "    </tr>\n",
       "    <tr>\n",
       "      <th>publish_date</th>\n",
       "      <th></th>\n",
       "      <th></th>\n",
       "      <th></th>\n",
       "    </tr>\n",
       "  </thead>\n",
       "  <tbody>\n",
       "    <tr>\n",
       "      <th>2001-01-02</th>\n",
       "      <td>Status quo will not be disturbed at Ayodhya; s...</td>\n",
       "      <td>0.148485</td>\n",
       "      <td>0.240909</td>\n",
       "    </tr>\n",
       "    <tr>\n",
       "      <th>2001-01-03</th>\n",
       "      <td>Powerless north India gropes in the dark,Think...</td>\n",
       "      <td>0.108333</td>\n",
       "      <td>0.458333</td>\n",
       "    </tr>\n",
       "    <tr>\n",
       "      <th>2001-01-04</th>\n",
       "      <td>The string that pulled Stephen Hawking to Indi...</td>\n",
       "      <td>0.115404</td>\n",
       "      <td>0.512342</td>\n",
       "    </tr>\n",
       "    <tr>\n",
       "      <th>2001-01-05</th>\n",
       "      <td>Light combat craft takes India into club class...</td>\n",
       "      <td>0.257045</td>\n",
       "      <td>0.462652</td>\n",
       "    </tr>\n",
       "    <tr>\n",
       "      <th>2001-01-06</th>\n",
       "      <td>Light combat craft takes India into club class...</td>\n",
       "      <td>0.219481</td>\n",
       "      <td>0.464935</td>\n",
       "    </tr>\n",
       "    <tr>\n",
       "      <th>...</th>\n",
       "      <td>...</td>\n",
       "      <td>...</td>\n",
       "      <td>...</td>\n",
       "    </tr>\n",
       "    <tr>\n",
       "      <th>2022-03-27</th>\n",
       "      <td>Playing a dead man in Body God meant sitting i...</td>\n",
       "      <td>0.031550</td>\n",
       "      <td>0.371446</td>\n",
       "    </tr>\n",
       "    <tr>\n",
       "      <th>2022-03-28</th>\n",
       "      <td>As fashion becomes democratic; demand for styl...</td>\n",
       "      <td>0.053177</td>\n",
       "      <td>0.383737</td>\n",
       "    </tr>\n",
       "    <tr>\n",
       "      <th>2022-03-29</th>\n",
       "      <td>Bobby Deol: Like my dad; I hope to be working ...</td>\n",
       "      <td>0.086287</td>\n",
       "      <td>0.401912</td>\n",
       "    </tr>\n",
       "    <tr>\n",
       "      <th>2022-03-30</th>\n",
       "      <td>I will not give in to trends: Dossmode,The tim...</td>\n",
       "      <td>0.037741</td>\n",
       "      <td>0.354163</td>\n",
       "    </tr>\n",
       "    <tr>\n",
       "      <th>2022-03-31</th>\n",
       "      <td>Shashank goes back to coastal Karnataka and Mo...</td>\n",
       "      <td>0.036905</td>\n",
       "      <td>0.325273</td>\n",
       "    </tr>\n",
       "  </tbody>\n",
       "</table>\n",
       "<p>7717 rows × 3 columns</p>\n",
       "</div>"
      ],
      "text/plain": [
       "                                                  headline_text  polarity  \\\n",
       "publish_date                                                                \n",
       "2001-01-02    Status quo will not be disturbed at Ayodhya; s...  0.148485   \n",
       "2001-01-03    Powerless north India gropes in the dark,Think...  0.108333   \n",
       "2001-01-04    The string that pulled Stephen Hawking to Indi...  0.115404   \n",
       "2001-01-05    Light combat craft takes India into club class...  0.257045   \n",
       "2001-01-06    Light combat craft takes India into club class...  0.219481   \n",
       "...                                                         ...       ...   \n",
       "2022-03-27    Playing a dead man in Body God meant sitting i...  0.031550   \n",
       "2022-03-28    As fashion becomes democratic; demand for styl...  0.053177   \n",
       "2022-03-29    Bobby Deol: Like my dad; I hope to be working ...  0.086287   \n",
       "2022-03-30    I will not give in to trends: Dossmode,The tim...  0.037741   \n",
       "2022-03-31    Shashank goes back to coastal Karnataka and Mo...  0.036905   \n",
       "\n",
       "              subjectivity  \n",
       "publish_date                \n",
       "2001-01-02        0.240909  \n",
       "2001-01-03        0.458333  \n",
       "2001-01-04        0.512342  \n",
       "2001-01-05        0.462652  \n",
       "2001-01-06        0.464935  \n",
       "...                    ...  \n",
       "2022-03-27        0.371446  \n",
       "2022-03-28        0.383737  \n",
       "2022-03-29        0.401912  \n",
       "2022-03-30        0.354163  \n",
       "2022-03-31        0.325273  \n",
       "\n",
       "[7717 rows x 3 columns]"
      ]
     },
     "execution_count": 18,
     "metadata": {},
     "output_type": "execute_result"
    }
   ],
   "source": [
    "from textblob import TextBlob\n",
    "polarity = []\n",
    "subjectivity = []\n",
    "for idx, row in stock_headlines.iterrows():\n",
    "    polarity.append(TextBlob(row['headline_text']).sentiment[0])\n",
    "    subjectivity.append(TextBlob(row['headline_text']).sentiment[1])\n",
    "    \n",
    "stock_headlines['polarity'] = polarity\n",
    "stock_headlines['subjectivity'] = subjectivity\n",
    "stock_headlines    "
   ]
  },
  {
   "cell_type": "code",
   "execution_count": 19,
   "id": "50b4ffad",
   "metadata": {
    "scrolled": true
   },
   "outputs": [
    {
     "data": {
      "text/html": [
       "<div>\n",
       "<style scoped>\n",
       "    .dataframe tbody tr th:only-of-type {\n",
       "        vertical-align: middle;\n",
       "    }\n",
       "\n",
       "    .dataframe tbody tr th {\n",
       "        vertical-align: top;\n",
       "    }\n",
       "\n",
       "    .dataframe thead th {\n",
       "        text-align: right;\n",
       "    }\n",
       "</style>\n",
       "<table border=\"1\" class=\"dataframe\">\n",
       "  <thead>\n",
       "    <tr style=\"text-align: right;\">\n",
       "      <th></th>\n",
       "      <th>Open</th>\n",
       "      <th>High</th>\n",
       "      <th>Low</th>\n",
       "      <th>Close</th>\n",
       "      <th>Adj Close</th>\n",
       "      <th>Volume</th>\n",
       "      <th>headline_text</th>\n",
       "      <th>polarity</th>\n",
       "      <th>subjectivity</th>\n",
       "    </tr>\n",
       "  </thead>\n",
       "  <tbody>\n",
       "    <tr>\n",
       "      <th>2001-01-02</th>\n",
       "      <td>0.265625</td>\n",
       "      <td>0.272321</td>\n",
       "      <td>0.260045</td>\n",
       "      <td>0.265625</td>\n",
       "      <td>0.226799</td>\n",
       "      <td>452312000.0</td>\n",
       "      <td>Status quo will not be disturbed at Ayodhya; s...</td>\n",
       "      <td>0.148485</td>\n",
       "      <td>0.240909</td>\n",
       "    </tr>\n",
       "    <tr>\n",
       "      <th>2001-01-03</th>\n",
       "      <td>0.258929</td>\n",
       "      <td>0.297991</td>\n",
       "      <td>0.257813</td>\n",
       "      <td>0.292411</td>\n",
       "      <td>0.249670</td>\n",
       "      <td>817073600.0</td>\n",
       "      <td>Powerless north India gropes in the dark,Think...</td>\n",
       "      <td>0.108333</td>\n",
       "      <td>0.458333</td>\n",
       "    </tr>\n",
       "    <tr>\n",
       "      <th>2001-01-04</th>\n",
       "      <td>0.323940</td>\n",
       "      <td>0.330357</td>\n",
       "      <td>0.300223</td>\n",
       "      <td>0.304688</td>\n",
       "      <td>0.260152</td>\n",
       "      <td>739396000.0</td>\n",
       "      <td>The string that pulled Stephen Hawking to Indi...</td>\n",
       "      <td>0.115404</td>\n",
       "      <td>0.512342</td>\n",
       "    </tr>\n",
       "    <tr>\n",
       "      <th>2001-01-05</th>\n",
       "      <td>0.302455</td>\n",
       "      <td>0.310268</td>\n",
       "      <td>0.286830</td>\n",
       "      <td>0.292411</td>\n",
       "      <td>0.249670</td>\n",
       "      <td>412356000.0</td>\n",
       "      <td>Light combat craft takes India into club class...</td>\n",
       "      <td>0.257045</td>\n",
       "      <td>0.462652</td>\n",
       "    </tr>\n",
       "    <tr>\n",
       "      <th>2001-01-08</th>\n",
       "      <td>0.302455</td>\n",
       "      <td>0.303292</td>\n",
       "      <td>0.284598</td>\n",
       "      <td>0.295759</td>\n",
       "      <td>0.252528</td>\n",
       "      <td>373699200.0</td>\n",
       "      <td>Sangh Parivar; Babri panel up the ante,Frontru...</td>\n",
       "      <td>0.013447</td>\n",
       "      <td>0.316351</td>\n",
       "    </tr>\n",
       "    <tr>\n",
       "      <th>...</th>\n",
       "      <td>...</td>\n",
       "      <td>...</td>\n",
       "      <td>...</td>\n",
       "      <td>...</td>\n",
       "      <td>...</td>\n",
       "      <td>...</td>\n",
       "      <td>...</td>\n",
       "      <td>...</td>\n",
       "      <td>...</td>\n",
       "    </tr>\n",
       "    <tr>\n",
       "      <th>2022-03-25</th>\n",
       "      <td>173.880005</td>\n",
       "      <td>175.279999</td>\n",
       "      <td>172.750000</td>\n",
       "      <td>174.720001</td>\n",
       "      <td>174.221664</td>\n",
       "      <td>80546200.0</td>\n",
       "      <td>Speeding up; shortcuts and tackling unruly cus...</td>\n",
       "      <td>0.003142</td>\n",
       "      <td>0.374713</td>\n",
       "    </tr>\n",
       "    <tr>\n",
       "      <th>2022-03-28</th>\n",
       "      <td>172.169998</td>\n",
       "      <td>175.729996</td>\n",
       "      <td>172.000000</td>\n",
       "      <td>175.600006</td>\n",
       "      <td>175.099167</td>\n",
       "      <td>90371900.0</td>\n",
       "      <td>As fashion becomes democratic; demand for styl...</td>\n",
       "      <td>0.053177</td>\n",
       "      <td>0.383737</td>\n",
       "    </tr>\n",
       "    <tr>\n",
       "      <th>2022-03-29</th>\n",
       "      <td>176.690002</td>\n",
       "      <td>179.009995</td>\n",
       "      <td>176.339996</td>\n",
       "      <td>178.960007</td>\n",
       "      <td>178.449570</td>\n",
       "      <td>100589400.0</td>\n",
       "      <td>Bobby Deol: Like my dad; I hope to be working ...</td>\n",
       "      <td>0.086287</td>\n",
       "      <td>0.401912</td>\n",
       "    </tr>\n",
       "    <tr>\n",
       "      <th>2022-03-30</th>\n",
       "      <td>178.550003</td>\n",
       "      <td>179.610001</td>\n",
       "      <td>176.699997</td>\n",
       "      <td>177.770004</td>\n",
       "      <td>177.262970</td>\n",
       "      <td>92633200.0</td>\n",
       "      <td>I will not give in to trends: Dossmode,The tim...</td>\n",
       "      <td>0.037741</td>\n",
       "      <td>0.354163</td>\n",
       "    </tr>\n",
       "    <tr>\n",
       "      <th>2022-03-31</th>\n",
       "      <td>177.839996</td>\n",
       "      <td>178.029999</td>\n",
       "      <td>174.399994</td>\n",
       "      <td>174.610001</td>\n",
       "      <td>174.111984</td>\n",
       "      <td>103049300.0</td>\n",
       "      <td>Shashank goes back to coastal Karnataka and Mo...</td>\n",
       "      <td>0.036905</td>\n",
       "      <td>0.325273</td>\n",
       "    </tr>\n",
       "  </tbody>\n",
       "</table>\n",
       "<p>5318 rows × 9 columns</p>\n",
       "</div>"
      ],
      "text/plain": [
       "                  Open        High         Low       Close   Adj Close  \\\n",
       "2001-01-02    0.265625    0.272321    0.260045    0.265625    0.226799   \n",
       "2001-01-03    0.258929    0.297991    0.257813    0.292411    0.249670   \n",
       "2001-01-04    0.323940    0.330357    0.300223    0.304688    0.260152   \n",
       "2001-01-05    0.302455    0.310268    0.286830    0.292411    0.249670   \n",
       "2001-01-08    0.302455    0.303292    0.284598    0.295759    0.252528   \n",
       "...                ...         ...         ...         ...         ...   \n",
       "2022-03-25  173.880005  175.279999  172.750000  174.720001  174.221664   \n",
       "2022-03-28  172.169998  175.729996  172.000000  175.600006  175.099167   \n",
       "2022-03-29  176.690002  179.009995  176.339996  178.960007  178.449570   \n",
       "2022-03-30  178.550003  179.610001  176.699997  177.770004  177.262970   \n",
       "2022-03-31  177.839996  178.029999  174.399994  174.610001  174.111984   \n",
       "\n",
       "                 Volume                                      headline_text  \\\n",
       "2001-01-02  452312000.0  Status quo will not be disturbed at Ayodhya; s...   \n",
       "2001-01-03  817073600.0  Powerless north India gropes in the dark,Think...   \n",
       "2001-01-04  739396000.0  The string that pulled Stephen Hawking to Indi...   \n",
       "2001-01-05  412356000.0  Light combat craft takes India into club class...   \n",
       "2001-01-08  373699200.0  Sangh Parivar; Babri panel up the ante,Frontru...   \n",
       "...                 ...                                                ...   \n",
       "2022-03-25   80546200.0  Speeding up; shortcuts and tackling unruly cus...   \n",
       "2022-03-28   90371900.0  As fashion becomes democratic; demand for styl...   \n",
       "2022-03-29  100589400.0  Bobby Deol: Like my dad; I hope to be working ...   \n",
       "2022-03-30   92633200.0  I will not give in to trends: Dossmode,The tim...   \n",
       "2022-03-31  103049300.0  Shashank goes back to coastal Karnataka and Mo...   \n",
       "\n",
       "            polarity  subjectivity  \n",
       "2001-01-02  0.148485      0.240909  \n",
       "2001-01-03  0.108333      0.458333  \n",
       "2001-01-04  0.115404      0.512342  \n",
       "2001-01-05  0.257045      0.462652  \n",
       "2001-01-08  0.013447      0.316351  \n",
       "...              ...           ...  \n",
       "2022-03-25  0.003142      0.374713  \n",
       "2022-03-28  0.053177      0.383737  \n",
       "2022-03-29  0.086287      0.401912  \n",
       "2022-03-30  0.037741      0.354163  \n",
       "2022-03-31  0.036905      0.325273  \n",
       "\n",
       "[5318 rows x 9 columns]"
      ]
     },
     "execution_count": 19,
     "metadata": {},
     "output_type": "execute_result"
    }
   ],
   "source": [
    "# concatenation of the datasets stock_price and stock_headlines\n",
    "stock_data = pd.concat([stock_price, stock_headlines], axis=1)\n",
    "stock_data.dropna(axis=0, inplace=True)\n",
    "\n",
    "# displaying the combined stock_data\n",
    "stock_data"
   ]
  },
  {
   "cell_type": "markdown",
   "id": "f30536e3",
   "metadata": {},
   "source": [
    "### Splitting data"
   ]
  },
  {
   "cell_type": "code",
   "execution_count": 20,
   "id": "4d9e158c",
   "metadata": {},
   "outputs": [],
   "source": [
    "x=stock_data[['Open', 'High',  'Volume', 'polarity', 'subjectivity']]\n",
    "y=stock_data[['Close']]"
   ]
  },
  {
   "cell_type": "code",
   "execution_count": 21,
   "id": "dd640f47",
   "metadata": {},
   "outputs": [],
   "source": [
    "#Train-Test split\n",
    "x_train,x_test,y_train,y_test= train_test_split(x,y,test_size=0.15,shuffle=False)"
   ]
  },
  {
   "cell_type": "markdown",
   "id": "242efb5c",
   "metadata": {},
   "source": [
    "### Modelling"
   ]
  },
  {
   "cell_type": "code",
   "execution_count": 22,
   "id": "7e4bda4b",
   "metadata": {},
   "outputs": [
    {
     "name": "stdout",
     "output_type": "stream",
     "text": [
      "Training RMSE: 0.16862072808083398\n",
      "Training MAE: 0.09506744799957792\n",
      "Training R2: 0.9998577682919938\n",
      "++++++\n",
      "Testing RMSE: 1.2254690116412381\n",
      "Testing MAE: 0.7920143906155299\n",
      "Testing R2: 0.9991462556610635\n",
      "--------------------------------------------------\n"
     ]
    }
   ],
   "source": [
    "model =LinearRegression()\n",
    "model.fit(x_train, y_train)\n",
    "y_pred = model.predict(x_test)\n",
    "y_pred_tr = model.predict(x_train)\n",
    "print(f'Training RMSE: {np.sqrt(mean_squared_error(y_train, y_pred_tr))}')\n",
    "print(f'Training MAE: {mean_absolute_error(y_train, y_pred_tr)}')\n",
    "print(f'Training R2: {r2_score(y_train, y_pred_tr)}')\n",
    "print('++++++')\n",
    "print(f'Testing RMSE: {np.sqrt(mean_squared_error(y_test, y_pred))}')\n",
    "print(f'Testing MAE: {mean_absolute_error(y_test, y_pred)}')\n",
    "print(f'Testing R2: {r2_score(y_test, y_pred)}')\n",
    "print('-'*50)"
   ]
  },
  {
   "cell_type": "code",
   "execution_count": 23,
   "id": "c1df868c",
   "metadata": {},
   "outputs": [
    {
     "data": {
      "text/html": [
       "<div>\n",
       "<style scoped>\n",
       "    .dataframe tbody tr th:only-of-type {\n",
       "        vertical-align: middle;\n",
       "    }\n",
       "\n",
       "    .dataframe tbody tr th {\n",
       "        vertical-align: top;\n",
       "    }\n",
       "\n",
       "    .dataframe thead th {\n",
       "        text-align: right;\n",
       "    }\n",
       "</style>\n",
       "<table border=\"1\" class=\"dataframe\">\n",
       "  <thead>\n",
       "    <tr style=\"text-align: right;\">\n",
       "      <th></th>\n",
       "      <th>Close</th>\n",
       "      <th>Predicted value</th>\n",
       "    </tr>\n",
       "  </thead>\n",
       "  <tbody>\n",
       "    <tr>\n",
       "      <th>2019-02-01</th>\n",
       "      <td>41.630001</td>\n",
       "      <td>41.902251</td>\n",
       "    </tr>\n",
       "    <tr>\n",
       "      <th>2019-02-04</th>\n",
       "      <td>42.812500</td>\n",
       "      <td>42.631566</td>\n",
       "    </tr>\n",
       "    <tr>\n",
       "      <th>2019-02-05</th>\n",
       "      <td>43.544998</td>\n",
       "      <td>43.410551</td>\n",
       "    </tr>\n",
       "    <tr>\n",
       "      <th>2019-02-06</th>\n",
       "      <td>43.560001</td>\n",
       "      <td>43.490928</td>\n",
       "    </tr>\n",
       "    <tr>\n",
       "      <th>2019-02-07</th>\n",
       "      <td>42.735001</td>\n",
       "      <td>43.109758</td>\n",
       "    </tr>\n",
       "    <tr>\n",
       "      <th>...</th>\n",
       "      <td>...</td>\n",
       "      <td>...</td>\n",
       "    </tr>\n",
       "    <tr>\n",
       "      <th>2022-03-25</th>\n",
       "      <td>174.720001</td>\n",
       "      <td>173.634361</td>\n",
       "    </tr>\n",
       "    <tr>\n",
       "      <th>2022-03-28</th>\n",
       "      <td>175.600006</td>\n",
       "      <td>174.378928</td>\n",
       "    </tr>\n",
       "    <tr>\n",
       "      <th>2022-03-29</th>\n",
       "      <td>178.960007</td>\n",
       "      <td>177.458345</td>\n",
       "    </tr>\n",
       "    <tr>\n",
       "      <th>2022-03-30</th>\n",
       "      <td>177.770004</td>\n",
       "      <td>177.877370</td>\n",
       "    </tr>\n",
       "    <tr>\n",
       "      <th>2022-03-31</th>\n",
       "      <td>174.610001</td>\n",
       "      <td>176.196712</td>\n",
       "    </tr>\n",
       "  </tbody>\n",
       "</table>\n",
       "<p>798 rows × 2 columns</p>\n",
       "</div>"
      ],
      "text/plain": [
       "                 Close  Predicted value\n",
       "2019-02-01   41.630001        41.902251\n",
       "2019-02-04   42.812500        42.631566\n",
       "2019-02-05   43.544998        43.410551\n",
       "2019-02-06   43.560001        43.490928\n",
       "2019-02-07   42.735001        43.109758\n",
       "...                ...              ...\n",
       "2022-03-25  174.720001       173.634361\n",
       "2022-03-28  175.600006       174.378928\n",
       "2022-03-29  178.960007       177.458345\n",
       "2022-03-30  177.770004       177.877370\n",
       "2022-03-31  174.610001       176.196712\n",
       "\n",
       "[798 rows x 2 columns]"
      ]
     },
     "execution_count": 23,
     "metadata": {},
     "output_type": "execute_result"
    }
   ],
   "source": [
    "b=y_test\n",
    "a = pd.DataFrame(y_pred,columns=[\"Predicted value\"],index=b.index)\n",
    "result = pd.concat([b, a], axis=1)\n",
    "result"
   ]
  },
  {
   "cell_type": "code",
   "execution_count": 24,
   "id": "d91f11d6",
   "metadata": {},
   "outputs": [
    {
     "data": {
      "image/png": "[encoded data removed]",
      "text/plain": [
       "<Figure size 1152x720 with 1 Axes>"
      ]
     },
     "metadata": {
      "needs_background": "light"
     },
     "output_type": "display_data"
    }
   ],
   "source": [
    "# plotting\n",
    "plt.figure(figsize=(16,10))\n",
    "plt.plot(a, label=\"Predicted Close Price\")\n",
    "plt.plot(b, label=\"Testing Close Price\")\n",
    "plt.legend(loc='upper center', bbox_to_anchor=(0.5, -0.05), fancybox=True, shadow=True, ncol=2)\n",
    "plt.show()"
   ]
  }
 ],
 "metadata": {
  "kernelspec": {
   "display_name": "Python 3 (ipykernel)",
   "language": "python",
   "name": "python3"
  },
  "language_info": {
   "codemirror_mode": {
    "name": "ipython",
    "version": 3
   },
   "file_extension": ".py",
   "mimetype": "text/x-python",
   "name": "python",
   "nbconvert_exporter": "python",
   "pygments_lexer": "ipython3",
   "version": "3.9.7"
  }
 },
 "nbformat": 4,
 "nbformat_minor": 5
}
